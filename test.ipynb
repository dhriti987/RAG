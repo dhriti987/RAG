{
 "cells": [
  {
   "cell_type": "code",
   "execution_count": 1,
   "metadata": {},
   "outputs": [
    {
     "name": "stderr",
     "output_type": "stream",
     "text": [
      "c:\\Users\\hetvi\\miniconda3\\Lib\\site-packages\\tqdm\\auto.py:21: TqdmWarning: IProgress not found. Please update jupyter and ipywidgets. See https://ipywidgets.readthedocs.io/en/stable/user_install.html\n",
      "  from .autonotebook import tqdm as notebook_tqdm\n"
     ]
    }
   ],
   "source": [
    "# inports\n",
    "import os\n",
    "from langchain_community.document_loaders import PyPDFLoader,TextLoader, CSVLoader\n",
    "from langchain_community.vectorstores import FAISS\n",
    "from langchain.embeddings import HuggingFaceBgeEmbeddings\n",
    "from langchain_community.document_loaders import PyPDFLoader\n",
    "from langchain.text_splitter import RecursiveCharacterTextSplitter\n",
    "from langchain_core.prompts import ChatPromptTemplate\n",
    "from langchain_google_genai import ChatGoogleGenerativeAI\n",
    "from decouple import config\n"
   ]
  },
  {
   "cell_type": "code",
   "execution_count": 2,
   "metadata": {},
   "outputs": [
    {
     "name": "stderr",
     "output_type": "stream",
     "text": [
      "C:\\Users\\hetvi\\AppData\\Local\\Temp\\ipykernel_13112\\1101999149.py:4: LangChainDeprecationWarning: The class `HuggingFaceBgeEmbeddings` was deprecated in LangChain 0.2.2 and will be removed in 1.0. An updated version of the class exists in the :class:`~langchain-huggingface package and should be used instead. To use it run `pip install -U :class:`~langchain-huggingface` and import as `from :class:`~langchain_huggingface import HuggingFaceEmbeddings``.\n",
      "  bge_embeddings = HuggingFaceBgeEmbeddings(\n"
     ]
    },
    {
     "name": "stdout",
     "output_type": "stream",
     "text": [
      "WARNING:tensorflow:From c:\\Users\\hetvi\\miniconda3\\Lib\\site-packages\\tf_keras\\src\\losses.py:2976: The name tf.losses.sparse_softmax_cross_entropy is deprecated. Please use tf.compat.v1.losses.sparse_softmax_cross_entropy instead.\n",
      "\n"
     ]
    }
   ],
   "source": [
    "# Embedding model\n",
    "model_name = \"BAAI/bge-large-en-v1.5\"\n",
    "model_kwargs = {'device':'cuda'}\n",
    "encode_kwargs = {'normalize_embeddings': True} \n",
    "bge_embeddings = HuggingFaceBgeEmbeddings(\n",
    "    model_name=model_name,\n",
    "    model_kwargs=model_kwargs,\n",
    "    encode_kwargs=encode_kwargs,\n",
    ")"
   ]
  },
  {
   "cell_type": "code",
   "execution_count": 10,
   "metadata": {},
   "outputs": [],
   "source": [
    "# llm model & prompt\n",
    "model = \"gemini-pro\"\n",
    "model = ChatGoogleGenerativeAI(model=model,google_api_key=config('GOOGLE_API_KEY'),\n",
    "                            temperature=0.7)\n",
    "\n",
    "template = \"\"\"You are a Chatbot that can answer questions from users based on the Context provided. Ensure the responses are accurate and utilize retrieval from the knowledge base.\n",
    "\n",
    "Context: {context},\n",
    "Question: {question}\n",
    "\n",
    "Note: Give your response in Markdown.\n",
    "\"\"\"\n",
    "\n",
    "prompt = ChatPromptTemplate.from_template(template)\n",
    "\n",
    "chain = prompt | model\n"
   ]
  },
  {
   "cell_type": "code",
   "execution_count": 4,
   "metadata": {},
   "outputs": [],
   "source": [
    "# Loading file\n",
    "file_path = './AI Intern Assignment.pdf'\n",
    "file_type = os.path.splitext(file_path)[1]\n",
    "\n",
    "if file_type == '.pdf':\n",
    "    loader = PyPDFLoader(file_path)\n",
    "    \n",
    "elif file_type == '.csv':\n",
    "    loader = CSVLoader(file_path, encoding='utf-8')\n",
    "\n",
    "elif file_type == '.json':\n",
    "    loader = TextLoader(file_path)\n",
    "\n",
    "document = loader.load()\n",
    "\n",
    "# dividing page content into chunks\n",
    "if not isinstance(document, CSVLoader):\n",
    "    text_splitter = RecursiveCharacterTextSplitter(chunk_size=500,chunk_overlap=200)\n",
    "    document = text_splitter.split_documents(document)"
   ]
  },
  {
   "cell_type": "code",
   "execution_count": 5,
   "metadata": {},
   "outputs": [],
   "source": [
    "# initialising vector store and retriver\n",
    "vector_store = FAISS.from_documents(documents=document, embedding=bge_embeddings)\n",
    "retriever = vector_store.as_retriever(search_type=\"mmr\", search_kwargs={\"k\": 5})"
   ]
  },
  {
   "cell_type": "code",
   "execution_count": null,
   "metadata": {},
   "outputs": [
    {
     "name": "stdout",
     "output_type": "stream",
     "text": [
      "- Python Code\n",
      " - Submit either .ipynb (Google Colab) or .py files with proper comments and documentation\n",
      "- Sample Questions and Chatbot Responses\n",
      " - Save these in a .txt, .pdf, or .xlsx file\n",
      "- GitHub Repository\n",
      " - Push all code, notebooks, and relevant files to the repository\n",
      "- Optional Streamlit Link (Bonus)\n",
      " - If hosted, include the Streamlit application link in your submission email\n"
     ]
    }
   ],
   "source": [
    "# Asking Question & retriving response\n",
    "question = \"give me Deliverables in points.\"\n",
    "context = retriever.invoke(question)\n",
    "\n",
    "result = chain.invoke({'question': question, 'context': context})\n",
    "print(result.content)"
   ]
  }
 ],
 "metadata": {
  "kernelspec": {
   "display_name": "base",
   "language": "python",
   "name": "python3"
  },
  "language_info": {
   "codemirror_mode": {
    "name": "ipython",
    "version": 3
   },
   "file_extension": ".py",
   "mimetype": "text/x-python",
   "name": "python",
   "nbconvert_exporter": "python",
   "pygments_lexer": "ipython3",
   "version": "3.12.3"
  }
 },
 "nbformat": 4,
 "nbformat_minor": 2
}
